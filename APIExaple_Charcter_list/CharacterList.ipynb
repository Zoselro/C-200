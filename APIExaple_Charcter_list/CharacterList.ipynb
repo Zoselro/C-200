{
 "cells": [
  {
   "cell_type": "code",
   "execution_count": 23,
   "metadata": {},
   "outputs": [
    {
     "name": "stdout",
     "output_type": "stream",
     "text": [
      "응답 데이터를 'response_data.json' 파일로 저장했습니다.\n",
      "{'account_list': [{'account_id': '9f592d1a2487e178f9117f98398d4d81', 'character_list': [{'ocid': '5dd0d4082685b647d55f65675ecb7696efe8d04e6d233bd35cf2fabdeb93fb0d', 'character_name': '텔레오카르트', 'world_name': '루나', 'character_class': '노블레스', 'character_level': 1}, {'ocid': 'd01fcf2d836e266262173ffc72032070efe8d04e6d233bd35cf2fabdeb93fb0d', 'character_name': '트레져카르트', 'world_name': '루나', 'character_class': '노블레스', 'character_level': 1}, {'ocid': '6bb08c9d59baee26455f942d9aa96853efe8d04e6d233bd35cf2fabdeb93fb0d', 'character_name': '긴빠OI', 'world_name': '루나', 'character_class': '노블레스', 'character_level': 1}, {'ocid': 'ac149c380930ddadb30a2743f445cbf0efe8d04e6d233bd35cf2fabdeb93fb0d', 'character_name': 'rwaasd', 'world_name': '엘리시움', 'character_class': '아란', 'character_level': 18}, {'ocid': 'a13d0a1fd39f0c3172b1b31c3cae0b3f', 'character_name': '10000mAh37Wh', 'world_name': '리부트', 'character_class': '블래스터', 'character_level': 200}, {'ocid': '821fe7fa8089e24ff35b6b50bb0c65e4', 'character_name': '씨사이드파크', 'world_name': '아케인', 'character_class': '초보자', 'character_level': 1}, {'ocid': '655bdc79cc7d5f66ce0fcb89d5e23767efe8d04e6d233bd35cf2fabdeb93fb0d', 'character_name': '너같은루미너', 'world_name': '이노시스', 'character_class': '루미너스', 'character_level': 109}, {'ocid': '7be0fbc3de842d1f4fa8e62a222ea6f5', 'character_name': '9543215', 'world_name': '제니스', 'character_class': '프리스트', 'character_level': 75}, {'ocid': '117a32a9af49790651c0635578389df3', 'character_name': '3532133', 'world_name': '베라', 'character_class': '카데나', 'character_level': 214}, {'ocid': '2128312cf316ba37d39fd2126828f694', 'character_name': '131231311', 'world_name': '베라', 'character_class': '소울마스터', 'character_level': 180}, {'ocid': '7a3fd2587e7fdade6acd7883b49ebe23', 'character_name': '링크개쉬8', 'world_name': '베라', 'character_class': '팬텀', 'character_level': 141}, {'ocid': '979122e120f7a86240498512b16afa01', 'character_name': '12424121', 'world_name': '베라', 'character_class': '제논', 'character_level': 150}, {'ocid': 'c94e09d006860ae08ecd0a2469232fcf', 'character_name': '썬불비', 'world_name': '베라', 'character_class': '아크메이지(썬,콜)', 'character_level': 254}, {'ocid': '04b8bf2180aa5aabdb70a1aa00cb6cad', 'character_name': '3124552', 'world_name': '베라', 'character_class': '메르세데스', 'character_level': 200}, {'ocid': '027da80d10f9a1414aaa9f85284bffdc', 'character_name': '21312324', 'world_name': '베라', 'character_class': '엔젤릭버스터', 'character_level': 152}, {'ocid': 'a525d156904d9a68f50832c14a41d3d2', 'character_name': '131212412', 'world_name': '베라', 'character_class': '제로', 'character_level': 200}, {'ocid': '23a32fb6cae1d6ffdec7cc8eba132508', 'character_name': '15312511', 'world_name': '베라', 'character_class': '데몬슬레이어', 'character_level': 151}, {'ocid': '3210ac1b3ec76e45b49059ee020687f9', 'character_name': '12121231', 'world_name': '베라', 'character_class': '일리움', 'character_level': 200}, {'ocid': '3f4f513b4f4c58add2e7736de7fcd804', 'character_name': '펫셔틀임', 'world_name': '베라', 'character_class': '아크', 'character_level': 129}, {'ocid': '39a6d4f3c7c446e6410c457dfd782b32', 'character_name': '유뇬키네3', 'world_name': '베라', 'character_class': '키네시스', 'character_level': 200}, {'ocid': '1aa64e3b0cdc5d9cc9038da05a48ae78', 'character_name': '11234124', 'world_name': '베라', 'character_class': '아란', 'character_level': 140}, {'ocid': 'd303c579ef0e9b746085f67ca916b5f6', 'character_name': '141212123', 'world_name': '베라', 'character_class': '메카닉', 'character_level': 200}, {'ocid': 'c3e5f470a59a0beadb1c32990ffe70d8', 'character_name': '201801280533', 'world_name': '베라', 'character_class': '스트라이커', 'character_level': 141}, {'ocid': '4cb40a8f90b30fe4b6bef07e4d76f116', 'character_name': '332323', 'world_name': '베라', 'character_class': '스트라이커', 'character_level': 140}, {'ocid': 'c7780ff78b85283f4d7b6fe3e02ff865', 'character_name': 'Donto', 'world_name': '베라', 'character_class': '루미너스', 'character_level': 141}, {'ocid': '9a6f3d618035d83f0e27284450d46591', 'character_name': '123131233', 'world_name': '베라', 'character_class': '미하일', 'character_level': 89}, {'ocid': '307967fc25bb73326027a58f71e61e23', 'character_name': '용범이는40살', 'world_name': '제니스', 'character_class': '아란', 'character_level': 125}, {'ocid': 'aad27ebd01cb8574e13e0312d6c37d05', 'character_name': '크뎀때문에하', 'world_name': '베라', 'character_class': '은월', 'character_level': 200}, {'ocid': '132c021fd1e65317329cf6b311e02fa8', 'character_name': 'MP때문에키움', 'world_name': '베라', 'character_class': '에반', 'character_level': 140}, {'ocid': '667f47db826739a1e2d3d97982342861', 'character_name': '21241274124', 'world_name': '베라', 'character_class': '데몬어벤져', 'character_level': 141}, {'ocid': '8828099288cfc1ffdf06f17ead495e26', 'character_name': '32123353', 'world_name': '베라', 'character_class': '스트라이커', 'character_level': 140}, {'ocid': '6e8ebbda631cb10d5dec34e4d858d482', 'character_name': '134212', 'world_name': '베라', 'character_class': '스트라이커', 'character_level': 149}, {'ocid': '03ecbb3175b20c15b469563521f0776a', 'character_name': '1232313232', 'world_name': '베라', 'character_class': '스트라이커', 'character_level': 140}, {'ocid': 'bbfef4c1bfe40b396e35c462f04d0983', 'character_name': '231123213', 'world_name': '베라', 'character_class': '스트라이커', 'character_level': 123}, {'ocid': 'eb59c54fc8fad9073dcb65c228fc1472', 'character_name': '32323422', 'world_name': '베라', 'character_class': '스트라이커', 'character_level': 118}, {'ocid': 'cbc270ce6074b59087883b5297f81255', 'character_name': '재규어개같네', 'world_name': '베라', 'character_class': '와일드헌터', 'character_level': 140}, {'ocid': '1a1bdd712a359efa8c661a1ed51aa0f0', 'character_name': '카벨은신궁', 'world_name': '베라', 'character_class': '신궁', 'character_level': 200}, {'ocid': '3ae384c8879de68d2bdbf684a00e635a', 'character_name': '크확용적폐캐', 'world_name': '베라', 'character_class': '섀도어', 'character_level': 150}, {'ocid': 'b9dfe40472288843be3b37dd3ef2d6ed', 'character_name': '소울시간용캐', 'world_name': '베라', 'character_class': '캡틴', 'character_level': 200}, {'ocid': '3f8d0cc8e39c32f60bcd803370f0babe', 'character_name': '213132312', 'world_name': '베라', 'character_class': '스트라이커', 'character_level': 150}, {'ocid': '7204fe5df8ef29a0a6209ea851f1916e', 'character_name': '5321431', 'world_name': '베라', 'character_class': '블래스터', 'character_level': 187}, {'ocid': 'c9e94d1f3c1974d16c1662f1ae7c12c8', 'character_name': '캐슈는120', 'world_name': '베라', 'character_class': '캐논마스터', 'character_level': 140}, {'ocid': '6da67407c7fc43ace5fd1621a7048085', 'character_name': '12331213', 'world_name': '베라', 'character_class': '스트라이커', 'character_level': 118}, {'ocid': '27d6cb9da87fe20b54f7ff6e8ae4b69e', 'character_name': '312414212', 'world_name': '베라', 'character_class': '스트라이커', 'character_level': 157}, {'ocid': 'adaa78589ac9766f81e148df5fd88402', 'character_name': '2141411', 'world_name': '베라', 'character_class': '나이트워커', 'character_level': 140}, {'ocid': '2eecd65774a309abf9434657c31d1106', 'character_name': '짜증나서테라', 'world_name': '베라', 'character_class': '배틀메이지', 'character_level': 200}, {'ocid': '64ff9eac398194fe9f2172697cb2b829', 'character_name': '뗌랄', 'world_name': '베라', 'character_class': '호영', 'character_level': 70}, {'ocid': '3247efe8ba52a38989a0081e9bc2edfd', 'character_name': '비숍될예정', 'world_name': '베라', 'character_class': '비숍', 'character_level': 140}, {'ocid': 'd78fd36281d33cc981d64b80b89af817', 'character_name': '경뿌내놔봐', 'world_name': '베라', 'character_class': '듀얼블레이더', 'character_level': 141}, {'ocid': 'e2bb2f2f0893e34184983e33c5233117', 'character_name': '웩잽', 'world_name': '베라', 'character_class': '나이트로드', 'character_level': 200}, {'ocid': 'eb79da9b864a12b0fecb48a2b55655d4efe8d04e6d233bd35cf2fabdeb93fb0d', 'character_name': '인강레기', 'world_name': '이노시스', 'character_class': '윈드브레이커', 'character_level': 68}, {'ocid': '06e6c66079bbe327dbfc977c47168e10efe8d04e6d233bd35cf2fabdeb93fb0d', 'character_name': '너같은제로', 'world_name': '이노시스', 'character_class': '제로', 'character_level': 120}, {'ocid': '69e5df57235ca08a3fa3c978f660ecac', 'character_name': '인피무한지속', 'world_name': '베라', 'character_class': '노블레스', 'character_level': 1}, {'ocid': '2beb44e787acd42085b186da589baebb', 'character_name': '643612412', 'world_name': '베라', 'character_class': '아델', 'character_level': 200}, {'ocid': '86d3592b24d422ba787c0cd921d528e3', 'character_name': '4312313', 'world_name': '베라', 'character_class': '초보자', 'character_level': 1}, {'ocid': 'db7acff71d7e3192153f6deee3007a63', 'character_name': '312312335', 'world_name': '베라', 'character_class': '카인', 'character_level': 1}, {'ocid': 'd719478b37f493b1dac438cc745b17c5', 'character_name': '2165631', 'world_name': '베라', 'character_class': '카인', 'character_level': 205}, {'ocid': '0b730a4e68a8edfb45d2fcf0b5cd2a96', 'character_name': '1247314', 'world_name': '스카니아', 'character_class': '키네시스', 'character_level': 146}, {'ocid': '68a3194a429e13df730dafb3b452c1c7', 'character_name': 'sk브로드12', 'world_name': '엘리시움', 'character_class': '스트라이커', 'character_level': 16}, {'ocid': 'a98dee51201ea03a71d7f83aa63ee82cefe8d04e6d233bd35cf2fabdeb93fb0d', 'character_name': '위장잠입', 'world_name': '유니온', 'character_class': '시티즌', 'character_level': 1}, {'ocid': '4eabeb0cb718d3ea79b6f78408cea8c1efe8d04e6d233bd35cf2fabdeb93fb0d', 'character_name': 'vasdsw', 'world_name': '엘리시움', 'character_class': '듀어러', 'character_level': 49}, {'ocid': '76e9a92dbcf46e4fc04db69afa7fc190', 'character_name': '끌직', 'world_name': '리부트', 'character_class': '아크', 'character_level': 200}, {'ocid': 'd3bebcde87e667f874e7669b30cdb750', 'character_name': '낚텁', 'world_name': '리부트', 'character_class': '데몬어벤져', 'character_level': 200}, {'ocid': '955977ec3b7df39407fb1084a3061814', 'character_name': '펍뮬', 'world_name': '리부트', 'character_class': '에반', 'character_level': 200}, {'ocid': '9f4027b89b531b320921f509c431df01', 'character_name': '톺컹', 'world_name': '리부트', 'character_class': '라라', 'character_level': 200}, {'ocid': '89464777f8b90dffe01e12e690c0a186', 'character_name': '편휭', 'world_name': '리부트', 'character_class': '호영', 'character_level': 200}, {'ocid': 'aa785cc671649cb588c0c1757c216648', 'character_name': '탯낱', 'world_name': '리부트', 'character_class': '카인', 'character_level': 200}, {'ocid': '210a0f53114e61f256a900b0a8c8b5ec', 'character_name': '스킬빌려간다', 'world_name': '리부트', 'character_class': '팬텀', 'character_level': 280}, {'ocid': '7d8280be9f3bc2116014b2bbbefa2878', 'character_name': '퉜괭', 'world_name': '리부트', 'character_class': '루미너스', 'character_level': 200}, {'ocid': '28580a9b686b4bfce33f7585fa0f4e27', 'character_name': '밑솖', 'world_name': '리부트', 'character_class': '은월', 'character_level': 200}, {'ocid': 'ed1da0973e26de957cdc08724bb18a81', 'character_name': '마북코인떡상', 'world_name': '리부트', 'character_class': '제로', 'character_level': 200}, {'ocid': '8b53de444b7f17c0a6c1a02ed47fb1aa', 'character_name': '크확용적폐', 'world_name': '리부트', 'character_class': '나이트로드', 'character_level': 200}, {'ocid': '8daab86cd929c03a6a6beaf50cc2f59c', 'character_name': '3213214242', 'world_name': '리부트', 'character_class': '신궁', 'character_level': 206}, {'ocid': '4de48c1b6651bf139c3d26c730d3f575', 'character_name': '메세하쉴라우', 'world_name': '리부트', 'character_class': '메르세데스', 'character_level': 209}, {'ocid': '1e9d9e7fbc2c6bd16ada2159e68676ae', 'character_name': '메탁기굴리자', 'world_name': '리부트', 'character_class': '메카닉', 'character_level': 204}, {'ocid': '7cb191bb91a9bb400f7a9a0ef6162fb9', 'character_name': '엔버링33', 'world_name': '리부트', 'character_class': '엔젤릭버스터', 'character_level': 200}, {'ocid': 'fb8e1d1ddd1e89c6d499ecd5d0643c6b', 'character_name': '키네링33', 'world_name': '리부트', 'character_class': '키네시스', 'character_level': 200}, {'ocid': 'b74a8754cfa5e1d1267a9cc5b9c10857', 'character_name': '데몬링33', 'world_name': '리부트', 'character_class': '데몬슬레이어', 'character_level': 200}, {'ocid': '08b4994129ad80c62b62fba7ccefb85b', 'character_name': '뎀지링크3332', 'world_name': '리부트', 'character_class': '카데나', 'character_level': 200}, {'ocid': 'ffb3bd3289e8719708c910dc08561afd', 'character_name': '크확링크133', 'world_name': '리부트', 'character_class': '패스파인더', 'character_level': 200}, {'ocid': '3460d13745084b34f86ac42cc3c9bd1f', 'character_name': '241242131', 'world_name': '리부트', 'character_class': '일리움', 'character_level': 200}, {'ocid': '30cefee253386bb1c9422bfbb6cdebfd', 'character_name': '32312231', 'world_name': '리부트', 'character_class': '비숍', 'character_level': 240}, {'ocid': '047f60a404c26654e4fe59721fdc53b2', 'character_name': '312314152', 'world_name': '리부트', 'character_class': '아크메이지(불,독)', 'character_level': 200}, {'ocid': 'b3cd131b591c13bbd6cc7d09b89f23a8', 'character_name': '3221232123', 'world_name': '리부트', 'character_class': '아크메이지(썬,콜)', 'character_level': 200}, {'ocid': '26ac28b8fd095fe088d4549bd26f78d2', 'character_name': '나1워1입1니1', 'world_name': '리부트', 'character_class': '나이트워커', 'character_level': 207}, {'ocid': 'b4edd9cb3337cbf8e233683224a976fe', 'character_name': '보공링크3332', 'world_name': '리부트', 'character_class': '아델', 'character_level': 200}, {'ocid': '4fd0c32b651fa19722e971e56532a1be', 'character_name': '모도링크1321', 'world_name': '리부트', 'character_class': '듀얼블레이더', 'character_level': 200}, {'ocid': 'd428ecc92cae34feb4d2f1ef58c4620b', 'character_name': '모도링크1341', 'world_name': '리부트', 'character_class': '섀도어', 'character_level': 200}, {'ocid': 'a944814e09986254e85692d252898535', 'character_name': '해적링크4165', 'world_name': '리부트', 'character_class': '바이퍼', 'character_level': 220}, {'ocid': 'ae327d58a17f4f93623b3b9a3bf520f4', 'character_name': '해적링크1786', 'world_name': '리부트', 'character_class': '캐논마스터', 'character_level': 200}, {'ocid': 'df77392ea873af36df8f6d2f721c9966', 'character_name': '해적링크1351', 'world_name': '리부트', 'character_class': '캡틴', 'character_level': 200}, {'ocid': 'e8b9b8beeeb67d6026f486a2cd5991ea', 'character_name': '5415352', 'world_name': '리부트', 'character_class': '소울마스터', 'character_level': 224}, {'ocid': '67462d2e0bb00cc8b38b52fee4f15f42', 'character_name': '아란링크3345', 'world_name': '리부트', 'character_class': '아란', 'character_level': 200}, {'ocid': 'dbc873653b330d29624c3eef996a1554', 'character_name': '제논링크3552', 'world_name': '리부트', 'character_class': '제논', 'character_level': 200}, {'ocid': 'a6569ed5d88263d6aeeb7a5fe124a6a5', 'character_name': '2411223112', 'world_name': '리부트', 'character_class': '보우마스터', 'character_level': 260}, {'ocid': '6c289827818650dd9ef32fa37c3cab4c', 'character_name': '321512', 'world_name': '리부트', 'character_class': '아델', 'character_level': 187}, {'ocid': '9b4dae03e9121889754e9e18804a93a4', 'character_name': '히어로31233', 'world_name': '리부트', 'character_class': '히어로', 'character_level': 200}, {'ocid': 'e604b837f39f29331663f6c00a76b82f', 'character_name': '스1트라이커3', 'world_name': '리부트', 'character_class': '스트라이커', 'character_level': 200}, {'ocid': '1f875feff4c0f010db4b7e24fe70d0e5', 'character_name': '강아지가더좋', 'world_name': '리부트', 'character_class': '와일드헌터', 'character_level': 200}, {'ocid': '780c6c27232333b1a6ee86a462224da2', 'character_name': '윔키벌레', 'world_name': '리부트', 'character_class': '윈드브레이커', 'character_level': 235}, {'ocid': 'dde89ec6d2095be1074d88e935e24175efe8d04e6d233bd35cf2fabdeb93fb0d', 'character_name': '어밴져할까', 'world_name': '엘리시움', 'character_class': '데몬어벤져', 'character_level': 75}, {'ocid': 'c0c2a4b55e64c1555545e69ebe5c3921', 'character_name': '영종고', 'world_name': '리부트', 'character_class': '검사', 'character_level': 10}, {'ocid': '265859b260394da4b34e001490234b82', 'character_name': '캡스톤은안돼', 'world_name': '리부트', 'character_class': '플레임위자드', 'character_level': 220}, {'ocid': '87e3593c9ce50d32addd84ce85c7f644', 'character_name': '운서동', 'world_name': '리부트', 'character_class': '카이저', 'character_level': 280}, {'ocid': '0b80c9f54ca954bc495ee6e56f5d60ae', 'character_name': '주보4호기', 'world_name': '리부트', 'character_class': '칼리', 'character_level': 200}, {'ocid': '4ab3bf2ca0d4b2810acdd8dd0d266fcf', 'character_name': '롤크지너스', 'world_name': '루나', 'character_class': '데몬어벤져', 'character_level': 127}, {'ocid': '98f7eb4e097435b8e4f42a6d6a25d42e', 'character_name': '나홀로인베', 'world_name': '루나', 'character_class': '제로', 'character_level': 101}]}]}\n"
     ]
    }
   ],
   "source": [
    "import requests\n",
    "from datetime import datetime, timedelta\n",
    "import json\n",
    "\n",
    "with open('response_data.json', 'w', encoding='utf-8') as json_file:\n",
    "    json_file.write('')\n",
    "\n",
    "headers = {\n",
    "    \"x-nxopen-api-key\": \"live_23a1b1d4734e921eb7e769206e88f1f8d52039d05af824fe944ba9b2cf6e1f7d183da407b7a678747cf6efb59c154129\"\n",
    "}\n",
    "\n",
    "characterName = \"운서동\"\n",
    "urlString = \"https://open.api.nexon.com/maplestory/v1/character/list?character_name=\" + characterName\n",
    "response = requests.get(urlString, headers = headers)\n",
    "\n",
    "with open('response_data.json', 'r+', encoding='utf-8') as json_file:\n",
    "    json.dump(response.json(), json_file, ensure_ascii=False, indent=4)\n",
    "\n",
    "print(\"응답 데이터를 'response_data.json' 파일로 저장했습니다.\")\n",
    "\n",
    "print(response.json())"
   ]
  },
  {
   "cell_type": "code",
   "execution_count": 28,
   "metadata": {},
   "outputs": [
    {
     "name": "stdout",
     "output_type": "stream",
     "text": [
      "응답 데이터를 'response_data.json' 파일로 저장했습니다.\n",
      "{'ocid': '87e3593c9ce50d32addd84ce85c7f644'}\n"
     ]
    }
   ],
   "source": [
    "import requests\n",
    "from datetime import datetime, timedelta\n",
    "import json\n",
    "\n",
    "with open('response_data.json', 'w', encoding='utf-8') as json_file:\n",
    "    json_file.write('')\n",
    "\n",
    "headers = {\n",
    "    \"x-nxopen-api-key\": \"live_23a1b1d4734e921eb7e769206e88f1f8d52039d05af824fe944ba9b2cf6e1f7d183da407b7a678747cf6efb59c154129\"\n",
    "}\n",
    "\n",
    "characterName = \"운서동\"\n",
    "urlString = \"https://open.api.nexon.com/maplestory/v1/id?character_name=\" + characterName\n",
    "response = requests.get(urlString, headers = headers)\n",
    "ocid = response.json()['ocid']\n",
    "urlString = \"https://open.api.nexon.com/maplestory/v1/character/basic?ocid=\" + ocid + \"&date=\" + \"2024-10-21\"#datetime.now().strftime('%Y-%m-%d')\n",
    "\n",
    "with open('response_data.json', 'r+', encoding='utf-8') as json_file:\n",
    "    json.dump(response.json(), json_file, ensure_ascii=False, indent=4)\n",
    "\n",
    "print(\"응답 데이터를 'response_data.json' 파일로 저장했습니다.\")\n",
    "\n",
    "print(response.json())"
   ]
  }
 ],
 "metadata": {
  "kernelspec": {
   "display_name": ".venv",
   "language": "python",
   "name": "python3"
  },
  "language_info": {
   "codemirror_mode": {
    "name": "ipython",
    "version": 3
   },
   "file_extension": ".py",
   "mimetype": "text/x-python",
   "name": "python",
   "nbconvert_exporter": "python",
   "pygments_lexer": "ipython3",
   "version": "3.12.6"
  }
 },
 "nbformat": 4,
 "nbformat_minor": 2
}
